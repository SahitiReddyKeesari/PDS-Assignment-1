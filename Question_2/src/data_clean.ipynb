{
 "cells": [
  {
   "cell_type": "code",
   "execution_count": 11,
   "id": "c39a5631",
   "metadata": {},
   "outputs": [],
   "source": [
    "import pandas\n",
    "\n",
    "# reads the CSV file\n",
    "df = pandas.read_csv('../data_raw/StudentsPerformance.csv')\n",
    "\n",
    "# strip the trailing spaces\n",
    "df.columns = df.columns.str.strip()\n",
    "df.rename(columns = {'race/ethnicity':'race_or_ethnicity',\n",
    "                     'parental level of education':'parental_level_of_education',\n",
    "    'test preparation course':'test_preparation_course', \n",
    "                       'math score':'math_score',\n",
    "                       'reading score':'reading_score',\n",
    "                        'writing score':'writing_score'}, inplace = True)\n",
    "df.to_csv('../data_clean/StudentsPerformance.csv')"
   ]
  },
  {
   "cell_type": "code",
   "execution_count": null,
   "id": "33bf162f",
   "metadata": {},
   "outputs": [],
   "source": []
  }
 ],
 "metadata": {
  "kernelspec": {
   "display_name": "Python 3 (ipykernel)",
   "language": "python",
   "name": "python3"
  },
  "language_info": {
   "codemirror_mode": {
    "name": "ipython",
    "version": 3
   },
   "file_extension": ".py",
   "mimetype": "text/x-python",
   "name": "python",
   "nbconvert_exporter": "python",
   "pygments_lexer": "ipython3",
   "version": "3.9.13"
  }
 },
 "nbformat": 4,
 "nbformat_minor": 5
}
