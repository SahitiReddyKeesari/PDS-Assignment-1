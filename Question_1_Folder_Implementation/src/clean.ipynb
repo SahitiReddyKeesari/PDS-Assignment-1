{
 "cells": [
  {
   "cell_type": "code",
   "execution_count": 27,
   "id": "e1703bac",
   "metadata": {},
   "outputs": [],
   "source": [
    "import pandas\n",
    "\n",
    "# reads the CSV file\n",
    "df = pandas.read_csv('../data_raw/grip-strength-frailty-observations.csv')\n",
    "df_obj = df.select_dtypes(['object'])\n",
    "#strip the trailing spaces\n",
    "df[df_obj.columns] = df_obj.apply(lambda x: x.str.strip())\n",
    "df.columns = df.columns.str.strip()\n",
    "#rename the file\n",
    "df.rename(columns = {'Height (Inches)':'height', \n",
    "                       'Weight (Pounds)':'weight',\n",
    "                       'Age':'age',\n",
    "                        'Grip strength':'grip_strength',\n",
    "                         'Frailty':'frailty'}, inplace = True)\n",
    "df.frailty=df.frailty.map(dict(Y=1, N=0))\n",
    "# displaying the contents of the CSV file\n",
    "df.to_csv('../data_clean/grip-strength-frailty-observations.csv')"
   ]
  }
 ],
 "metadata": {
  "kernelspec": {
   "display_name": "Python 3 (ipykernel)",
   "language": "python",
   "name": "python3"
  },
  "language_info": {
   "codemirror_mode": {
    "name": "ipython",
    "version": 3
   },
   "file_extension": ".py",
   "mimetype": "text/x-python",
   "name": "python",
   "nbconvert_exporter": "python",
   "pygments_lexer": "ipython3",
   "version": "3.9.13"
  }
 },
 "nbformat": 4,
 "nbformat_minor": 5
}
